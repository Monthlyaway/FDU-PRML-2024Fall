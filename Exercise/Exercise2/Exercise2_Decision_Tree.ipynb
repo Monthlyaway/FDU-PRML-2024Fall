{
 "cells": [
  {
   "cell_type": "markdown",
   "id": "faa9e6fb23a5356",
   "metadata": {
    "collapsed": false
   },
   "source": [
    "# Exercise 2\n",
    "\n",
    "In this exercise, you will complete the implementation of a Decision Tree classifier based on our simple `fduml` framework. We have written most of the code for you already, and you only need to fill in the most essential parts marked in `TODO`. We have also prepared several test cases for you to check if your code works correctly. Furthermore, you can also test the accuracy of your code by comparing its output with the output of Sklearn."
   ]
  },
  {
   "cell_type": "code",
   "execution_count": 2,
   "id": "fc42f1d4c0679bec",
   "metadata": {
    "collapsed": false
   },
   "outputs": [],
   "source": [
    "# Auto reload external modules, which means you can modify the code of our fduml implementation without restarting the kernel.\n",
    "%load_ext autoreload\n",
    "%autoreload 2"
   ]
  },
  {
   "cell_type": "code",
   "execution_count": 3,
   "id": "bbac084f253b88a6",
   "metadata": {
    "collapsed": false
   },
   "outputs": [],
   "source": [
    "# Basic imports\n",
    "import numpy as np\n",
    "import random\n",
    "import matplotlib.pyplot as plt\n",
    "from matplotlib import rc\n",
    "\n",
    "np.random.seed(42)\n",
    "random.seed(42)"
   ]
  },
  {
   "cell_type": "markdown",
   "id": "55b847afee6a108d",
   "metadata": {
    "collapsed": false
   },
   "source": [
    "## Implement and test (40 points)\n",
    "\n",
    "We have prepared several test cases for you to check if your code works correctly. After you write your own implementation, try the following code for testing."
   ]
  },
  {
   "cell_type": "code",
   "execution_count": 4,
   "id": "5df4695e706b454e",
   "metadata": {
    "collapsed": false
   },
   "outputs": [],
   "source": [
    "from fduml import *"
   ]
  },
  {
   "cell_type": "code",
   "execution_count": 5,
   "id": "864192717f0f9a52",
   "metadata": {
    "collapsed": false
   },
   "outputs": [
    {
     "name": "stdout",
     "output_type": "stream",
     "text": [
      "[[-2 -1]\n",
      " [-1 -1]\n",
      " [-1 -2]\n",
      " [ 1  1]\n",
      " [ 1  2]\n",
      " [ 2  1]]\n"
     ]
    }
   ],
   "source": [
    "from fduml.tree.tests.test_decision_tree import test_dt_classification\n",
    "test_dt_classification()"
   ]
  },
  {
   "cell_type": "markdown",
   "id": "f0c9f980",
   "metadata": {},
   "source": [
    "## Load data and fit the model (40 points)\n",
    "\n",
    "Inside the `data` directory we have prepared a classification dataset, split into training and test sets. In this part, you will load the data and fit the model to the training data. Then, you will evaluate the model on the test data."
   ]
  },
  {
   "cell_type": "code",
   "execution_count": 6,
   "id": "bdc6885a",
   "metadata": {},
   "outputs": [
    {
     "data": {
      "text/html": [
       "<div>\n",
       "<style scoped>\n",
       "    .dataframe tbody tr th:only-of-type {\n",
       "        vertical-align: middle;\n",
       "    }\n",
       "\n",
       "    .dataframe tbody tr th {\n",
       "        vertical-align: top;\n",
       "    }\n",
       "\n",
       "    .dataframe thead th {\n",
       "        text-align: right;\n",
       "    }\n",
       "</style>\n",
       "<table border=\"1\" class=\"dataframe\">\n",
       "  <thead>\n",
       "    <tr style=\"text-align: right;\">\n",
       "      <th></th>\n",
       "      <th>ph</th>\n",
       "      <th>Hardness</th>\n",
       "      <th>Solids</th>\n",
       "      <th>Chloramines</th>\n",
       "      <th>Sulfate</th>\n",
       "      <th>Conductivity</th>\n",
       "      <th>Organic_carbon</th>\n",
       "      <th>Trihalomethanes</th>\n",
       "      <th>Turbidity</th>\n",
       "      <th>Potability</th>\n",
       "    </tr>\n",
       "  </thead>\n",
       "  <tbody>\n",
       "    <tr>\n",
       "      <th>0</th>\n",
       "      <td>8.618654</td>\n",
       "      <td>257.595883</td>\n",
       "      <td>11595.35498</td>\n",
       "      <td>6.399933</td>\n",
       "      <td>-1.000000</td>\n",
       "      <td>343.740007</td>\n",
       "      <td>15.331166</td>\n",
       "      <td>75.687401</td>\n",
       "      <td>4.141342</td>\n",
       "      <td>0</td>\n",
       "    </tr>\n",
       "    <tr>\n",
       "      <th>1</th>\n",
       "      <td>-1.000000</td>\n",
       "      <td>199.942222</td>\n",
       "      <td>25973.32663</td>\n",
       "      <td>6.490994</td>\n",
       "      <td>336.040741</td>\n",
       "      <td>344.970363</td>\n",
       "      <td>12.640414</td>\n",
       "      <td>46.854524</td>\n",
       "      <td>3.151768</td>\n",
       "      <td>0</td>\n",
       "    </tr>\n",
       "    <tr>\n",
       "      <th>2</th>\n",
       "      <td>4.923179</td>\n",
       "      <td>208.406673</td>\n",
       "      <td>15990.14923</td>\n",
       "      <td>5.648146</td>\n",
       "      <td>349.655175</td>\n",
       "      <td>404.405763</td>\n",
       "      <td>11.403372</td>\n",
       "      <td>84.525775</td>\n",
       "      <td>3.329601</td>\n",
       "      <td>1</td>\n",
       "    </tr>\n",
       "    <tr>\n",
       "      <th>3</th>\n",
       "      <td>7.617524</td>\n",
       "      <td>179.596189</td>\n",
       "      <td>30308.23118</td>\n",
       "      <td>6.952617</td>\n",
       "      <td>329.422414</td>\n",
       "      <td>355.425532</td>\n",
       "      <td>13.400760</td>\n",
       "      <td>66.223591</td>\n",
       "      <td>3.698317</td>\n",
       "      <td>0</td>\n",
       "    </tr>\n",
       "    <tr>\n",
       "      <th>4</th>\n",
       "      <td>8.891674</td>\n",
       "      <td>184.869606</td>\n",
       "      <td>41801.44184</td>\n",
       "      <td>3.409576</td>\n",
       "      <td>337.047108</td>\n",
       "      <td>461.076821</td>\n",
       "      <td>13.715504</td>\n",
       "      <td>42.078122</td>\n",
       "      <td>4.522599</td>\n",
       "      <td>0</td>\n",
       "    </tr>\n",
       "  </tbody>\n",
       "</table>\n",
       "</div>"
      ],
      "text/plain": [
       "         ph    Hardness       Solids  Chloramines     Sulfate  Conductivity  \\\n",
       "0  8.618654  257.595883  11595.35498     6.399933   -1.000000    343.740007   \n",
       "1 -1.000000  199.942222  25973.32663     6.490994  336.040741    344.970363   \n",
       "2  4.923179  208.406673  15990.14923     5.648146  349.655175    404.405763   \n",
       "3  7.617524  179.596189  30308.23118     6.952617  329.422414    355.425532   \n",
       "4  8.891674  184.869606  41801.44184     3.409576  337.047108    461.076821   \n",
       "\n",
       "   Organic_carbon  Trihalomethanes  Turbidity  Potability  \n",
       "0       15.331166        75.687401   4.141342           0  \n",
       "1       12.640414        46.854524   3.151768           0  \n",
       "2       11.403372        84.525775   3.329601           1  \n",
       "3       13.400760        66.223591   3.698317           0  \n",
       "4       13.715504        42.078122   4.522599           0  "
      ]
     },
     "execution_count": 6,
     "metadata": {},
     "output_type": "execute_result"
    }
   ],
   "source": [
    "# Load the water potability dataset\n",
    "import pandas as pd\n",
    "\n",
    "train_df = pd.read_csv('data/water_potability_train.csv')\n",
    "train_df.head()"
   ]
  },
  {
   "cell_type": "markdown",
   "id": "9095d342",
   "metadata": {},
   "source": [
    "**Information gain ratio 可以降低过拟合，因为决策树会偏好样本数量多的类**"
   ]
  },
  {
   "cell_type": "code",
   "execution_count": 7,
   "id": "b74846e8",
   "metadata": {},
   "outputs": [
    {
     "name": "stdout",
     "output_type": "stream",
     "text": [
      "[[ 8.61865385e+00  2.57595883e+02  1.15953550e+04 ...  1.53311665e+01\n",
      "   7.56874006e+01  4.14134185e+00]\n",
      " [-1.00000000e+00  1.99942222e+02  2.59733266e+04 ...  1.26404140e+01\n",
      "   4.68545235e+01  3.15176782e+00]\n",
      " [ 4.92317886e+00  2.08406673e+02  1.59901492e+04 ...  1.14033722e+01\n",
      "   8.45257750e+01  3.32960078e+00]\n",
      " ...\n",
      " [ 5.59672982e+00  2.29295098e+02  4.46523639e+04 ...  1.23618268e+01\n",
      "   4.04120977e+01  3.82615819e+00]\n",
      " [ 7.07930352e+00  1.37007355e+02  2.42821548e+04 ...  9.11394522e+00\n",
      "   8.83286048e+01  5.55317384e+00]\n",
      " [-1.00000000e+00  2.55953599e+02  1.50970241e+04 ...  1.45709319e+01\n",
      "   4.02872983e+01  3.22794080e+00]]\n",
      "[0 0 1 ... 0 0 1]\n"
     ]
    }
   ],
   "source": [
    "# Fit a DecisionTreeClassifier to the water potability train set\n",
    "classifier = DecisionTreeClassifier(criterion='info_gain')\n",
    "X = train_df.drop(\"Potability\", axis=1).to_numpy()\n",
    "y = train_df[\"Potability\"].to_numpy()\n",
    "print(X)\n",
    "print(y)"
   ]
  },
  {
   "cell_type": "code",
   "execution_count": 8,
   "id": "388fb965",
   "metadata": {},
   "outputs": [],
   "source": [
    "classifier.fit(X, y)"
   ]
  },
  {
   "cell_type": "code",
   "execution_count": 9,
   "id": "05d4f2f0",
   "metadata": {},
   "outputs": [
    {
     "name": "stdout",
     "output_type": "stream",
     "text": [
      "['ph', 'Hardness', 'Solids', 'Chloramines', 'Sulfate', 'Conductivity', 'Organic_carbon', 'Trihalomethanes', 'Turbidity']\n",
      "['0', '1']\n"
     ]
    }
   ],
   "source": [
    "feature_names = train_df.drop(\"Potability\", axis=1).columns.tolist()\n",
    "class_names = ['0', '1']\n",
    "print(feature_names)\n",
    "print(class_names)"
   ]
  },
  {
   "cell_type": "code",
   "execution_count": 10,
   "id": "893c8056",
   "metadata": {},
   "outputs": [
    {
     "data": {
      "text/plain": [
       "505"
      ]
     },
     "execution_count": 10,
     "metadata": {},
     "output_type": "execute_result"
    }
   ],
   "source": [
    "classifier.tree_leaf_num"
   ]
  },
  {
   "cell_type": "markdown",
   "id": "52c171f4",
   "metadata": {},
   "source": [
    "**如果叶节点的个数很多，图片大小就超过最大值**"
   ]
  },
  {
   "cell_type": "code",
   "execution_count": 11,
   "id": "f3baed19",
   "metadata": {},
   "outputs": [],
   "source": [
    "%matplotlib inline\n",
    "# plot_tree(classifier, feature_names, class_names)"
   ]
  },
  {
   "cell_type": "code",
   "execution_count": 12,
   "id": "53c07ae6",
   "metadata": {},
   "outputs": [
    {
     "data": {
      "text/html": [
       "<div>\n",
       "<style scoped>\n",
       "    .dataframe tbody tr th:only-of-type {\n",
       "        vertical-align: middle;\n",
       "    }\n",
       "\n",
       "    .dataframe tbody tr th {\n",
       "        vertical-align: top;\n",
       "    }\n",
       "\n",
       "    .dataframe thead th {\n",
       "        text-align: right;\n",
       "    }\n",
       "</style>\n",
       "<table border=\"1\" class=\"dataframe\">\n",
       "  <thead>\n",
       "    <tr style=\"text-align: right;\">\n",
       "      <th></th>\n",
       "      <th>ph</th>\n",
       "      <th>Hardness</th>\n",
       "      <th>Solids</th>\n",
       "      <th>Chloramines</th>\n",
       "      <th>Sulfate</th>\n",
       "      <th>Conductivity</th>\n",
       "      <th>Organic_carbon</th>\n",
       "      <th>Trihalomethanes</th>\n",
       "      <th>Turbidity</th>\n",
       "      <th>Potability</th>\n",
       "    </tr>\n",
       "  </thead>\n",
       "  <tbody>\n",
       "    <tr>\n",
       "      <th>0</th>\n",
       "      <td>8.570129</td>\n",
       "      <td>200.071875</td>\n",
       "      <td>9782.344284</td>\n",
       "      <td>5.661697</td>\n",
       "      <td>-1.000000</td>\n",
       "      <td>511.161511</td>\n",
       "      <td>11.856089</td>\n",
       "      <td>66.048413</td>\n",
       "      <td>4.604405</td>\n",
       "      <td>0</td>\n",
       "    </tr>\n",
       "    <tr>\n",
       "      <th>1</th>\n",
       "      <td>6.106760</td>\n",
       "      <td>211.454489</td>\n",
       "      <td>39430.307820</td>\n",
       "      <td>8.316897</td>\n",
       "      <td>348.776719</td>\n",
       "      <td>389.591440</td>\n",
       "      <td>12.896953</td>\n",
       "      <td>85.358049</td>\n",
       "      <td>3.924967</td>\n",
       "      <td>0</td>\n",
       "    </tr>\n",
       "    <tr>\n",
       "      <th>2</th>\n",
       "      <td>-1.000000</td>\n",
       "      <td>215.977859</td>\n",
       "      <td>17107.224230</td>\n",
       "      <td>5.607060</td>\n",
       "      <td>326.943978</td>\n",
       "      <td>436.256194</td>\n",
       "      <td>14.189062</td>\n",
       "      <td>59.855476</td>\n",
       "      <td>5.459251</td>\n",
       "      <td>0</td>\n",
       "    </tr>\n",
       "    <tr>\n",
       "      <th>3</th>\n",
       "      <td>4.405327</td>\n",
       "      <td>169.742537</td>\n",
       "      <td>15039.710410</td>\n",
       "      <td>6.308198</td>\n",
       "      <td>352.917733</td>\n",
       "      <td>424.251162</td>\n",
       "      <td>14.441754</td>\n",
       "      <td>79.169597</td>\n",
       "      <td>4.086867</td>\n",
       "      <td>0</td>\n",
       "    </tr>\n",
       "    <tr>\n",
       "      <th>4</th>\n",
       "      <td>3.975753</td>\n",
       "      <td>135.891978</td>\n",
       "      <td>17430.841940</td>\n",
       "      <td>6.305788</td>\n",
       "      <td>373.486425</td>\n",
       "      <td>344.398912</td>\n",
       "      <td>15.624310</td>\n",
       "      <td>68.370968</td>\n",
       "      <td>3.666824</td>\n",
       "      <td>1</td>\n",
       "    </tr>\n",
       "  </tbody>\n",
       "</table>\n",
       "</div>"
      ],
      "text/plain": [
       "         ph    Hardness        Solids  Chloramines     Sulfate  Conductivity  \\\n",
       "0  8.570129  200.071875   9782.344284     5.661697   -1.000000    511.161511   \n",
       "1  6.106760  211.454489  39430.307820     8.316897  348.776719    389.591440   \n",
       "2 -1.000000  215.977859  17107.224230     5.607060  326.943978    436.256194   \n",
       "3  4.405327  169.742537  15039.710410     6.308198  352.917733    424.251162   \n",
       "4  3.975753  135.891978  17430.841940     6.305788  373.486425    344.398912   \n",
       "\n",
       "   Organic_carbon  Trihalomethanes  Turbidity  Potability  \n",
       "0       11.856089        66.048413   4.604405           0  \n",
       "1       12.896953        85.358049   3.924967           0  \n",
       "2       14.189062        59.855476   5.459251           0  \n",
       "3       14.441754        79.169597   4.086867           0  \n",
       "4       15.624310        68.370968   3.666824           1  "
      ]
     },
     "execution_count": 12,
     "metadata": {},
     "output_type": "execute_result"
    }
   ],
   "source": [
    "# Evaluate the DecisionTreeClassifier on the water potability test set\n",
    "test_df = pd.read_csv('data/water_potability_test.csv')\n",
    "test_df.head()"
   ]
  },
  {
   "cell_type": "code",
   "execution_count": 13,
   "id": "6c02b884",
   "metadata": {},
   "outputs": [
    {
     "name": "stdout",
     "output_type": "stream",
     "text": [
      "0.5801526717557252\n"
     ]
    }
   ],
   "source": [
    "test_X = test_df.drop(\"Potability\", axis=1).to_numpy()\n",
    "test_y = test_df[\"Potability\"].to_numpy()\n",
    "pred = classifier.predict(test_X)\n",
    "print(accuracy_score(test_y, pred))"
   ]
  },
  {
   "cell_type": "markdown",
   "id": "d865aa4552324124",
   "metadata": {
    "collapsed": false
   },
   "source": [
    "## Compare with Sklearn (20 points)\n",
    "\n",
    "Since the interface of our `fduml` is the same as that of sklearn, you can easily compare the output of your implementation with that of sklearn. In this part, try to generate test data and compare the accuracy and running time of your implementation with that of sklearn. You can use the following code for comparison.\n",
    "\n",
    "In the conclusion part, try to answer the following questions:\n",
    "\n",
    "- Is the accuracy of your implementation the same as that of sklearn? If not, what can be the reason?\n",
    "\n",
    "- Is the running time of your implementation the same as that of sklearn? If not, what can be the reason?\n",
    "\n",
    "- If there is any special thing you want to mention, please write it down.\n",
    "\n",
    "Note that we do not require you to match the accuracy and running time of sklearn (which can be quite difficult), but you should be able to explain the reason if they are different."
   ]
  },
  {
   "cell_type": "code",
   "execution_count": 14,
   "id": "e7521a793b9a5488",
   "metadata": {
    "collapsed": false
   },
   "outputs": [
    {
     "name": "stdout",
     "output_type": "stream",
     "text": [
      "Classification done!\n",
      "Accuracy: 0.5740458015267176\n",
      "Confusion Matrix:\n",
      " [[279 132]\n",
      " [147  97]]\n",
      "Classification Report:\n",
      "               precision    recall  f1-score   support\n",
      "\n",
      "           0       0.65      0.68      0.67       411\n",
      "           1       0.42      0.40      0.41       244\n",
      "\n",
      "    accuracy                           0.57       655\n",
      "   macro avg       0.54      0.54      0.54       655\n",
      "weighted avg       0.57      0.57      0.57       655\n",
      "\n"
     ]
    }
   ],
   "source": [
    "# Import necessary libraries\n",
    "import pandas as pd\n",
    "from sklearn.model_selection import train_test_split\n",
    "from sklearn.tree import DecisionTreeClassifier\n",
    "from sklearn.metrics import accuracy_score, classification_report, confusion_matrix\n",
    "\n",
    "# Load the data\n",
    "train_df = pd.read_csv('data/water_potability_train.csv')\n",
    "test_df = pd.read_csv('data/water_potability_test.csv')\n",
    "\n",
    "# Separate features and target variable\n",
    "X = train_df.drop(columns=['Potability'])  # Features: all columns except 'Potability'\n",
    "y = train_df['Potability']  # Target: 'Potability' column\n",
    "\n",
    "X_test = test_df.drop(columns=['Potability'])\n",
    "y_test = test_df['Potability']\n",
    "\n",
    "# Initialize the Decision Tree Classifier\n",
    "classifier = DecisionTreeClassifier(criterion='entropy')\n",
    "\n",
    "# Train the classifier\n",
    "classifier.fit(X, y)\n",
    "print(f\"Classification done!\")\n",
    "\n",
    "# Make predictions\n",
    "y_pred = classifier.predict(X_test)\n",
    "\n",
    "# Evaluate the model\n",
    "accuracy = accuracy_score(y_test, y_pred)\n",
    "confusion = confusion_matrix(y_test, y_pred)\n",
    "report = classification_report(y_test, y_pred)\n",
    "\n",
    "# Print the results\n",
    "print(\"Accuracy:\", accuracy)\n",
    "print(\"Confusion Matrix:\\n\", confusion)\n",
    "print(\"Classification Report:\\n\", report)\n"
   ]
  },
  {
   "cell_type": "markdown",
   "id": "499ef0501ed482fb",
   "metadata": {
    "collapsed": false
   },
   "source": [
    "## Conclusion"
   ]
  },
  {
   "cell_type": "markdown",
   "id": "608d4739",
   "metadata": {},
   "source": [
    "我的代码运行时长极大, `info_gain` 要跑一分半，可能原因有：\n",
    "\n",
    "1. `__label_stat` 可你用 `np.unique` 来替代\n",
    "2. 对于每一个节点都要重新计算 labels 和 entropy\n",
    "3. 建树的算法比不上sklearn\n",
    "4. `sklearn` 可能直接用C语言写"
   ]
  }
 ],
 "metadata": {
  "kernelspec": {
   "display_name": "nlp-course",
   "language": "python",
   "name": "python3"
  },
  "language_info": {
   "codemirror_mode": {
    "name": "ipython",
    "version": 3
   },
   "file_extension": ".py",
   "mimetype": "text/x-python",
   "name": "python",
   "nbconvert_exporter": "python",
   "pygments_lexer": "ipython3",
   "version": "3.11.9"
  }
 },
 "nbformat": 4,
 "nbformat_minor": 5
}
